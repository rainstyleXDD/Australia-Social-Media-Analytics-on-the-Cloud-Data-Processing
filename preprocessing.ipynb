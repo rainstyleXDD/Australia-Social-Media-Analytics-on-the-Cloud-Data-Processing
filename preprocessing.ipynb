{
 "cells": [
  {
   "cell_type": "code",
   "execution_count": 1,
   "metadata": {},
   "outputs": [],
   "source": [
    "import json"
   ]
  },
  {
   "cell_type": "code",
   "execution_count": 57,
   "metadata": {},
   "outputs": [],
   "source": [
    "for i in range(4):\n",
    "    file_path_r = './raw_data/tweetsWithLocation'+ str(i) +'.json'\n",
    "    file_path_w = './curated_data/tweetsProcessed_'+ str(i) +'.json'\n",
    "\n",
    "    with open(file_path_r, 'rb') as t, open(file_path_w, 'w') as outfile:\n",
    "\n",
    "        # returns JSON object as a dictionary\n",
    "        tweet_data = json.load(t)\n",
    "        outfile.write('[\\n')\n",
    "        tweet_dic = {\n",
    "            'id': 0,\n",
    "            'value': 0,\n",
    "            'author_id': 0,\n",
    "            'created_at': 0,\n",
    "            'text': 0,\n",
    "            'sentiment': 0,\n",
    "            'full_name': 0,\n",
    "            'bbox': 0\n",
    "        }\n",
    "        count = 0\n",
    "\n",
    "        for tweet in tweet_data:\n",
    "\n",
    "            # filter the non-english tweets\n",
    "            if tweet['doc']['data']['lang'] == 'en':\n",
    "                tweet_dic['id'] = tweet['id']\n",
    "                tweet_dic['value'] = tweet['value']\n",
    "                tweet_dic['author_id'] = tweet['doc']['data']['author_id']\n",
    "                tweet_dic['created_at'] = tweet['doc']['data']['created_at']\n",
    "                tweet_dic['text'] = tweet['doc']['data']['text']\n",
    "                tweet_dic['sentiment'] = tweet['doc']['data']['sentiment']\n",
    "                tweet_dic['full_name'] = tweet['doc']['includes']['places'][0]['full_name']\n",
    "                tweet_dic['bbox'] = tweet['doc']['includes']['places'][0]['geo']['bbox']\n",
    "\n",
    "                json_object = json.dumps(tweet_dic, indent=4)\n",
    "                outfile.write(json_object)\n",
    "                count += 1\n",
    "                if count != len(tweet_data):\n",
    "                    outfile.write(',\\n')\n",
    "\n",
    "            else:\n",
    "                count += 1\n",
    "\n",
    "        outfile.write('\\n]')\n"
   ]
  }
 ],
 "metadata": {
  "kernelspec": {
   "display_name": "Python 3",
   "language": "python",
   "name": "python3"
  },
  "language_info": {
   "codemirror_mode": {
    "name": "ipython",
    "version": 3
   },
   "file_extension": ".py",
   "mimetype": "text/x-python",
   "name": "python",
   "nbconvert_exporter": "python",
   "pygments_lexer": "ipython3",
   "version": "3.9.7"
  },
  "orig_nbformat": 4
 },
 "nbformat": 4,
 "nbformat_minor": 2
}
